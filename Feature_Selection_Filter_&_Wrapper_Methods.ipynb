{
  "cells": [
    {
      "cell_type": "markdown",
      "metadata": {
        "id": "view-in-github",
        "colab_type": "text"
      },
      "source": [
        "<a href=\"https://colab.research.google.com/github/ferdmartin/LearningLeap/blob/main/Feature_Selection_Filter_%26_Wrapper_Methods.ipynb\" target=\"_parent\"><img src=\"https://colab.research.google.com/assets/colab-badge.svg\" alt=\"Open In Colab\"/></a>"
      ]
    },
    {
      "cell_type": "markdown",
      "source": [
        "# Feature Selection - Filter & Wrapper Methods"
      ],
      "metadata": {
        "id": "T0uu9YCCQ0ks"
      }
    },
    {
      "cell_type": "markdown",
      "metadata": {
        "id": "SGFbk4OhQgmi"
      },
      "source": [
        "# Filter Method"
      ]
    },
    {
      "cell_type": "code",
      "execution_count": null,
      "metadata": {
        "id": "O_bjCxJmQgmn"
      },
      "outputs": [],
      "source": [
        "import numpy as np\n",
        "import pandas as pd\n",
        "from scipy.io import arff"
      ]
    },
    {
      "cell_type": "code",
      "execution_count": null,
      "metadata": {
        "id": "9URDEvykQgmo"
      },
      "outputs": [],
      "source": [
        "raw_data = arff.loadarff('veh-prime.arff')\n",
        "data = pd.DataFrame(raw_data[0])\n",
        "data[\"CLASS\"] = data[\"CLASS\"].map(lambda x: x.decode(\"utf-8\"))\n",
        "data[\"CLASS\"].replace({'noncar':0, 'car':1}, inplace=True)\n",
        "X = data.drop('CLASS', axis=1)\n",
        "y = data[\"CLASS\"]"
      ]
    },
    {
      "cell_type": "code",
      "execution_count": null,
      "metadata": {
        "id": "ZdUMCbzkQgmo"
      },
      "outputs": [],
      "source": [
        "def pearson_correlation(x, y):\n",
        "    N = len(x)\n",
        "    sum_sq_x = 0\n",
        "    sum_sq_y = 0\n",
        "    sum_coproduct = 0\n",
        "    mean_x = 0\n",
        "    mean_y = 0\n",
        "\n",
        "    for i in range(N):\n",
        "        sum_sq_x += x[i] * x[i]\n",
        "        sum_sq_y += y[i] * y[i]\n",
        "        sum_coproduct += x[i] * y[i]\n",
        "        mean_x += x[i]\n",
        "        mean_y += y[i]\n",
        "    mean_x = mean_x / N\n",
        "    mean_y = mean_y / N\n",
        "    pop_sd_x = np.sqrt((sum_sq_x/N) - (mean_x * mean_x))\n",
        "    pop_sd_y = np.sqrt((sum_sq_y/N) - (mean_y * mean_y))\n",
        "    cov_x_y = (sum_coproduct/N) - (mean_x * mean_y)\n",
        "    correlation = cov_x_y / (pop_sd_x * pop_sd_y)\n",
        "    return correlation"
      ]
    },
    {
      "cell_type": "code",
      "execution_count": null,
      "metadata": {
        "id": "vH3uy1m0Qgmp"
      },
      "outputs": [],
      "source": [
        "def Filter_Method(X, y):\n",
        "    n_columns = np.shape(X)[1]\n",
        "    correlations = []\n",
        "    for i in range(n_columns):\n",
        "        correlations.append(abs(pearson_correlation(X.iloc[:,i], y)))\n",
        "    return pd.Series(correlations).sort_values(ascending=False)\n",
        "\n",
        "r_s = Filter_Method(X, y)\n",
        "r_s.index = r_s.index.map(lambda x: 'f' + str(x))"
      ]
    },
    {
      "cell_type": "markdown",
      "metadata": {
        "id": "BRYeRWMPQgmp"
      },
      "source": [
        "## (1) List the features from highest |r| (the absolute value of r) to lowest, along with their |r| values. Why would one be interested in the absolute value of r rather than the raw value?\n",
        "\n",
        "We are interested in the absolute value since it indicates the relationship strength, and for this case we are not interested in the direction of this relationship, that the raw value provides."
      ]
    },
    {
      "cell_type": "code",
      "execution_count": null,
      "metadata": {
        "id": "Sqlvz_euQgmp",
        "outputId": "73a690be-588c-45be-b6f4-681a37070336"
      },
      "outputs": [
        {
          "data": {
            "text/html": [
              "<div>\n",
              "<style scoped>\n",
              "    .dataframe tbody tr th:only-of-type {\n",
              "        vertical-align: middle;\n",
              "    }\n",
              "\n",
              "    .dataframe tbody tr th {\n",
              "        vertical-align: top;\n",
              "    }\n",
              "\n",
              "    .dataframe thead th {\n",
              "        text-align: right;\n",
              "    }\n",
              "</style>\n",
              "<table border=\"1\" class=\"dataframe\">\n",
              "  <thead>\n",
              "    <tr style=\"text-align: right;\">\n",
              "      <th></th>\n",
              "      <th>Correlation</th>\n",
              "    </tr>\n",
              "  </thead>\n",
              "  <tbody>\n",
              "    <tr>\n",
              "      <th>f4</th>\n",
              "      <td>0.436922</td>\n",
              "    </tr>\n",
              "    <tr>\n",
              "      <th>f13</th>\n",
              "      <td>0.368269</td>\n",
              "    </tr>\n",
              "    <tr>\n",
              "      <th>f14</th>\n",
              "      <td>0.368224</td>\n",
              "    </tr>\n",
              "    <tr>\n",
              "      <th>f16</th>\n",
              "      <td>0.366025</td>\n",
              "    </tr>\n",
              "    <tr>\n",
              "      <th>f7</th>\n",
              "      <td>0.352141</td>\n",
              "    </tr>\n",
              "    <tr>\n",
              "      <th>f22</th>\n",
              "      <td>0.351350</td>\n",
              "    </tr>\n",
              "    <tr>\n",
              "      <th>f26</th>\n",
              "      <td>0.341043</td>\n",
              "    </tr>\n",
              "    <tr>\n",
              "      <th>f1</th>\n",
              "      <td>0.308811</td>\n",
              "    </tr>\n",
              "    <tr>\n",
              "      <th>f20</th>\n",
              "      <td>0.299049</td>\n",
              "    </tr>\n",
              "    <tr>\n",
              "      <th>f31</th>\n",
              "      <td>0.290783</td>\n",
              "    </tr>\n",
              "    <tr>\n",
              "      <th>f34</th>\n",
              "      <td>0.266093</td>\n",
              "    </tr>\n",
              "    <tr>\n",
              "      <th>f2</th>\n",
              "      <td>0.195732</td>\n",
              "    </tr>\n",
              "    <tr>\n",
              "      <th>f28</th>\n",
              "      <td>0.156904</td>\n",
              "    </tr>\n",
              "    <tr>\n",
              "      <th>f25</th>\n",
              "      <td>0.153096</td>\n",
              "    </tr>\n",
              "    <tr>\n",
              "      <th>f19</th>\n",
              "      <td>0.137636</td>\n",
              "    </tr>\n",
              "    <tr>\n",
              "      <th>f17</th>\n",
              "      <td>0.113945</td>\n",
              "    </tr>\n",
              "    <tr>\n",
              "      <th>f32</th>\n",
              "      <td>0.093174</td>\n",
              "    </tr>\n",
              "    <tr>\n",
              "      <th>f8</th>\n",
              "      <td>0.087773</td>\n",
              "    </tr>\n",
              "    <tr>\n",
              "      <th>f0</th>\n",
              "      <td>0.069795</td>\n",
              "    </tr>\n",
              "    <tr>\n",
              "      <th>f10</th>\n",
              "      <td>0.056876</td>\n",
              "    </tr>\n",
              "    <tr>\n",
              "      <th>f21</th>\n",
              "      <td>0.056605</td>\n",
              "    </tr>\n",
              "    <tr>\n",
              "      <th>f11</th>\n",
              "      <td>0.042117</td>\n",
              "    </tr>\n",
              "    <tr>\n",
              "      <th>f33</th>\n",
              "      <td>0.038810</td>\n",
              "    </tr>\n",
              "    <tr>\n",
              "      <th>f6</th>\n",
              "      <td>0.035295</td>\n",
              "    </tr>\n",
              "    <tr>\n",
              "      <th>f15</th>\n",
              "      <td>0.031478</td>\n",
              "    </tr>\n",
              "    <tr>\n",
              "      <th>f35</th>\n",
              "      <td>0.030855</td>\n",
              "    </tr>\n",
              "    <tr>\n",
              "      <th>f29</th>\n",
              "      <td>0.020829</td>\n",
              "    </tr>\n",
              "    <tr>\n",
              "      <th>f18</th>\n",
              "      <td>0.017931</td>\n",
              "    </tr>\n",
              "    <tr>\n",
              "      <th>f27</th>\n",
              "      <td>0.015606</td>\n",
              "    </tr>\n",
              "    <tr>\n",
              "      <th>f9</th>\n",
              "      <td>0.013005</td>\n",
              "    </tr>\n",
              "    <tr>\n",
              "      <th>f3</th>\n",
              "      <td>0.009214</td>\n",
              "    </tr>\n",
              "    <tr>\n",
              "      <th>f30</th>\n",
              "      <td>0.008955</td>\n",
              "    </tr>\n",
              "    <tr>\n",
              "      <th>f24</th>\n",
              "      <td>0.007780</td>\n",
              "    </tr>\n",
              "    <tr>\n",
              "      <th>f23</th>\n",
              "      <td>0.005508</td>\n",
              "    </tr>\n",
              "    <tr>\n",
              "      <th>f12</th>\n",
              "      <td>0.002179</td>\n",
              "    </tr>\n",
              "    <tr>\n",
              "      <th>f5</th>\n",
              "      <td>0.000098</td>\n",
              "    </tr>\n",
              "  </tbody>\n",
              "</table>\n",
              "</div>"
            ],
            "text/plain": [
              "     Correlation\n",
              "f4      0.436922\n",
              "f13     0.368269\n",
              "f14     0.368224\n",
              "f16     0.366025\n",
              "f7      0.352141\n",
              "f22     0.351350\n",
              "f26     0.341043\n",
              "f1      0.308811\n",
              "f20     0.299049\n",
              "f31     0.290783\n",
              "f34     0.266093\n",
              "f2      0.195732\n",
              "f28     0.156904\n",
              "f25     0.153096\n",
              "f19     0.137636\n",
              "f17     0.113945\n",
              "f32     0.093174\n",
              "f8      0.087773\n",
              "f0      0.069795\n",
              "f10     0.056876\n",
              "f21     0.056605\n",
              "f11     0.042117\n",
              "f33     0.038810\n",
              "f6      0.035295\n",
              "f15     0.031478\n",
              "f35     0.030855\n",
              "f29     0.020829\n",
              "f18     0.017931\n",
              "f27     0.015606\n",
              "f9      0.013005\n",
              "f3      0.009214\n",
              "f30     0.008955\n",
              "f24     0.007780\n",
              "f23     0.005508\n",
              "f12     0.002179\n",
              "f5      0.000098"
            ]
          },
          "execution_count": 6,
          "metadata": {},
          "output_type": "execute_result"
        }
      ],
      "source": [
        "pd.DataFrame(r_s, columns=['Correlation']).sort_values(by='Correlation', ascending=False)"
      ]
    },
    {
      "cell_type": "markdown",
      "metadata": {
        "id": "b0d8f_k1Qgmq"
      },
      "source": [
        "## (2) Select the features that have the highest m values of |r|, and run LOOCV on the dataset restricted to only those m features. Which value of m gives the highest LOOCV classification accuracy, and what is the value of this optimal accuracy?\n",
        "\n",
        "m = 20 is the value that gives the highest LOOCV classification accuracy, that results in 0.950355."
      ]
    },
    {
      "cell_type": "code",
      "execution_count": null,
      "metadata": {
        "id": "Zj9NgE-qQgmq"
      },
      "outputs": [],
      "source": [
        "# Defining KNN function\n",
        "def KNN(X_train, y_train, X_test,k=3):\n",
        "    # Euclidean function\n",
        "    euclidean_distance = np.sum((X_test - X_train)**2,axis=1)**(1/2)\n",
        "    euclidean_distance = euclidean_distance.rename(\"Euclidean_distance\")\n",
        "    # Determine highest voted class\n",
        "    df = pd.merge(y_train,euclidean_distance, left_index=True, right_index=True).sort_values(\"Euclidean_distance\").iloc[:k]\n",
        "    df[\"Count\"] = 1\n",
        "    df = df.groupby(y_train.name).sum().sort_values(\"Count\", ascending=False)\n",
        "    max_count = max(df.Count)\n",
        "    # If two or more winning classes receive the same number of votes, we break the tie using the lowest total distance\n",
        "    if len(df[df[\"Count\"] == max_count]) > 1:\n",
        "        df = df[df[\"Count\"] == max_count].sort_values(\"Euclidean_distance\")\n",
        "        prediction = df.sort_values(\"Euclidean_distance\").index[0]\n",
        "    else:\n",
        "        prediction = df.index[0]\n",
        "    return prediction"
      ]
    },
    {
      "cell_type": "code",
      "execution_count": null,
      "metadata": {
        "id": "dQT_GLsZQgmq"
      },
      "outputs": [],
      "source": [
        "def FilterMethod(X,y, r_s, k_fold): # Extract best lambda\n",
        "    Ms = {}\n",
        "    columns = []\n",
        "    for M, column in enumerate(r_s.index):\n",
        "        columns.append(column)\n",
        "        n = len(X)\n",
        "        i = 0\n",
        "        j = i+(n//k_fold)\n",
        "        results_for_accuracy = []\n",
        "\n",
        "        while j <= n: # Cross-validation\n",
        "            indexes_to_be_removed = X.iloc[i:j].index\n",
        "            X_train_CV = X.drop(indexes_to_be_removed,axis=0)\n",
        "            y_train_CV = y.drop(indexes_to_be_removed,axis=0)\n",
        "            X_test_CV = X.iloc[i:j]\n",
        "            y_test_CV = y.iloc[i:j]\n",
        "\n",
        "            predictions = KNN(X_train_CV[columns], y_train_CV, X_test_CV[columns].values, k=7)\n",
        "\n",
        "            if predictions == y_test_CV.values[0]:\n",
        "                results_for_accuracy.append(1)\n",
        "            else:\n",
        "                results_for_accuracy.append(0)\n",
        "            i=j\n",
        "            j+= (n//k_fold)\n",
        "\n",
        "        accuracy = np.average(results_for_accuracy)\n",
        "        Ms[M] = accuracy\n",
        "    Ms = pd.Series(Ms)\n",
        "    Ms.index = Ms.index.map(lambda x: x+1)\n",
        "    return Ms"
      ]
    },
    {
      "cell_type": "code",
      "execution_count": null,
      "metadata": {
        "id": "x3QkQjebQgmr",
        "outputId": "8cb2aa70-3267-4b71-ffd5-ac2466d43a1f"
      },
      "outputs": [
        {
          "data": {
            "text/plain": [
              "20    0.950355\n",
              "dtype: float64"
            ]
          },
          "execution_count": 9,
          "metadata": {},
          "output_type": "execute_result"
        }
      ],
      "source": [
        "cv_results = FilterMethod(X, y, r_s, len(X))\n",
        "cv_results[cv_results.values == cv_results.max()]"
      ]
    },
    {
      "cell_type": "markdown",
      "metadata": {
        "id": "QG3a4yv8Qgmr"
      },
      "source": [
        "# Q4: Wrapper Method"
      ]
    },
    {
      "cell_type": "markdown",
      "metadata": {
        "id": "UdDwJ86lQgmr"
      },
      "source": [
        "## (1) Show the set of selected features at each step, as it grows from size zero to its final size (increasing in size by exactly one feature at each step)."
      ]
    },
    {
      "cell_type": "code",
      "execution_count": null,
      "metadata": {
        "id": "VoiqHgt1Qgmr"
      },
      "outputs": [],
      "source": [
        "def WrapperMethod(X, y, k_fold):\n",
        "    model_acc = 0\n",
        "    model_columns = []\n",
        "    for _ in X.columns:\n",
        "\n",
        "        if model_columns:\n",
        "            X_model = X.drop(model_columns,axis=1)\n",
        "        else:\n",
        "            X_model = X.copy()\n",
        "\n",
        "        Ms = {}\n",
        "        df_columns = list(X_model.columns)\n",
        "        for column in df_columns:\n",
        "            n = len(X)\n",
        "            i = 0\n",
        "            j = i+(n//k_fold)\n",
        "            results_for_accuracy = []\n",
        "\n",
        "            while j <= n: # Cross-validation\n",
        "                indexes_to_be_removed = X.iloc[i:j].index\n",
        "                X_train_CV1 = X_model[column].drop(indexes_to_be_removed,axis=0); X_train_CV2 = X[model_columns].drop(indexes_to_be_removed,axis=0)\n",
        "                X_train_CV = pd.concat([X_train_CV1, X_train_CV2],axis=1)\n",
        "                y_train_CV = y.drop(indexes_to_be_removed,axis=0)\n",
        "                X_test_CV1 = X_model[column].iloc[i:j]; X_test_CV2 = X[model_columns].iloc[i:j]\n",
        "                X_test_CV = pd.concat([X_test_CV1, X_test_CV2],axis=1)\n",
        "                y_test_CV = y.iloc[i:j]\n",
        "\n",
        "                predictions = KNN(X_train_CV, y_train_CV, X_test_CV.values, k=7)\n",
        "\n",
        "                if predictions == y_test_CV.values[0]:\n",
        "                    results_for_accuracy.append(1)\n",
        "                else:\n",
        "                    results_for_accuracy.append(0)\n",
        "                i=j\n",
        "                j+= (n//k_fold)\n",
        "            accuracy = np.average(results_for_accuracy)\n",
        "            Ms[column] = accuracy\n",
        "        Ms = pd.Series(Ms)\n",
        "        Ms = Ms[Ms.values == Ms.max()]\n",
        "\n",
        "        if Ms.values[0] > model_acc:\n",
        "            new_column = Ms.index[0]\n",
        "            model_acc = Ms.values[0]\n",
        "            model_columns.append(new_column)\n",
        "            df_columns.remove(new_column)\n",
        "            print(f'Columns: {model_columns}\\t{round(model_acc,6)}')\n",
        "\n",
        "        else:\n",
        "            break"
      ]
    },
    {
      "cell_type": "code",
      "execution_count": null,
      "metadata": {
        "scrolled": true,
        "id": "P9usW89MQgmr",
        "outputId": "d8510d94-494e-4f47-bc5e-a9ff8475a0fd"
      },
      "outputs": [
        {
          "name": "stdout",
          "output_type": "stream",
          "text": [
            "Columns: ['f20']\t0.754137\n",
            "Columns: ['f20', 'f10']\t0.84279\n",
            "Columns: ['f20', 'f10', 'f19']\t0.888889\n",
            "Columns: ['f20', 'f10', 'f19', 'f8']\t0.916076\n",
            "Columns: ['f20', 'f10', 'f19', 'f8', 'f7']\t0.93617\n",
            "Columns: ['f20', 'f10', 'f19', 'f8', 'f7', 'f14']\t0.951537\n",
            "Columns: ['f20', 'f10', 'f19', 'f8', 'f7', 'f14', 'f2']\t0.952719\n",
            "Columns: ['f20', 'f10', 'f19', 'f8', 'f7', 'f14', 'f2', 'f1']\t0.959811\n",
            "Columns: ['f20', 'f10', 'f19', 'f8', 'f7', 'f14', 'f2', 'f1', 'f16']\t0.965721\n"
          ]
        }
      ],
      "source": [
        "WrapperMethod(X, y, len(X))"
      ]
    },
    {
      "cell_type": "markdown",
      "metadata": {
        "id": "M_1rLSB7Qgms"
      },
      "source": [
        "## (2) What is the LOOCV accuracy over the final set of selected features?\n",
        "\n",
        "Using Columns: ['f20', 'f10', 'f19', 'f8', 'f7', 'f14', 'f2', 'f1', 'f16'], we get an accuracy of 0.965721."
      ]
    }
  ],
  "metadata": {
    "interpreter": {
      "hash": "99c1092b5858b602eb98cea0034900806db74474072500c70468664ed180a84b"
    },
    "kernelspec": {
      "display_name": "Python 3 (ipykernel)",
      "language": "python",
      "name": "python3"
    },
    "language_info": {
      "codemirror_mode": {
        "name": "ipython",
        "version": 3
      },
      "file_extension": ".py",
      "mimetype": "text/x-python",
      "name": "python",
      "nbconvert_exporter": "python",
      "pygments_lexer": "ipython3",
      "version": "3.9.7"
    },
    "colab": {
      "provenance": [],
      "include_colab_link": true
    }
  },
  "nbformat": 4,
  "nbformat_minor": 0
}